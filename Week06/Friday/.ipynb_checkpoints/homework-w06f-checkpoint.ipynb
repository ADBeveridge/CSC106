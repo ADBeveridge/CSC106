{
 "cells": [
  {
   "cell_type": "code",
   "execution_count": 28,
   "id": "2871b86a-504f-4777-8474-77578a205846",
   "metadata": {},
   "outputs": [],
   "source": [
    "# Use whatever temperature here;\n",
    "temperature = 104\n",
    "# Valid values: adult, child, baby\n",
    "category = \"adult\"\n",
    "\n",
    "\n",
    "\n",
    "\n",
    "def check_temp():\n",
    "    # Run some checks on input data.\n",
    "    if category not in [\"adult\", \"child\", \"baby\"]:\n",
    "        print(\"Invalid category\")\n",
    "        return\n",
    "    \n",
    "    if temperature <= 95:\n",
    "        print (\"Hypothermia: SEEK CARE\")\n",
    "    elif temperature <= 96.9:\n",
    "        if category == \"baby\":\n",
    "            print (\"Low: SEEK CARE\")\n",
    "        else:\n",
    "            print (\"Low but possibly normal\")\n",
    "    elif temperature <= 98.6:\n",
    "        print (\"Normal\")\n",
    "    elif temperature <= 100.4:\n",
    "        if category == \"baby\":\n",
    "            print (\"Low grade fever\")\n",
    "        else:\n",
    "            print (\"Normal or low grade fever\")\n",
    "    elif temperature <= 103:\n",
    "        if category == \"baby\":\n",
    "            print (\"Fever: SEEK CARE\")\n",
    "        else:\n",
    "            print (\"Fever\")\n",
    "    else:\n",
    "        if category == \"baby\":\n",
    "            print (\"High fever: SEEK CARE\")\n",
    "        else:\n",
    "            print (\"High fever: CALL YOUR DOCTOR\")"
   ]
  },
  {
   "cell_type": "code",
   "execution_count": null,
   "id": "b7aff049-00ef-41ac-845b-63b44119c166",
   "metadata": {},
   "outputs": [],
   "source": []
  }
 ],
 "metadata": {
  "kernelspec": {
   "display_name": "Python 3 (ipykernel)",
   "language": "python",
   "name": "python3"
  },
  "language_info": {
   "codemirror_mode": {
    "name": "ipython",
    "version": 3
   },
   "file_extension": ".py",
   "mimetype": "text/x-python",
   "name": "python",
   "nbconvert_exporter": "python",
   "pygments_lexer": "ipython3",
   "version": "3.12.2"
  }
 },
 "nbformat": 4,
 "nbformat_minor": 5
}
