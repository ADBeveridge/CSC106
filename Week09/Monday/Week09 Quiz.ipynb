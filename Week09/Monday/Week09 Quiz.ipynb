{
 "cells": [
  {
   "cell_type": "markdown",
   "id": "322f7c2f-16cc-40a9-b5b9-e96fef048c6a",
   "metadata": {},
   "source": [
    "# Week 09 Quiz"
   ]
  },
  {
   "cell_type": "markdown",
   "id": "20fc61ce-4cc0-47b4-9584-801555618cd9",
   "metadata": {},
   "source": [
    "## Question 1"
   ]
  },
  {
   "cell_type": "code",
   "execution_count": 29,
   "id": "afbc2ca3-db65-43f9-88d8-e9e32b5b64aa",
   "metadata": {},
   "outputs": [],
   "source": [
    "array = [ -2, -1, -3, 0, 3, 1, 2]"
   ]
  },
  {
   "cell_type": "code",
   "execution_count": 30,
   "id": "d907eae5-7728-4597-86dc-7d6dfa7fc152",
   "metadata": {},
   "outputs": [],
   "source": [
    "length = len(array)\n",
    "for i in range(length):\n",
    "    for j in range(0, length-i-1):\n",
    "        if array[j] > array[j+1]:\n",
    "            array[j], array[j+1] = array[j+1], array[j]"
   ]
  },
  {
   "cell_type": "code",
   "execution_count": 31,
   "id": "8c6ce810-934c-40cc-a725-275298c0d6e1",
   "metadata": {},
   "outputs": [
    {
     "name": "stdout",
     "output_type": "stream",
     "text": [
      "[-3, -2, -1, 0, 1, 2, 3]\n"
     ]
    }
   ],
   "source": [
    "print(array)"
   ]
  },
  {
   "cell_type": "markdown",
   "id": "1b5a9384-cbf6-4ca8-9199-c28f9f33eda0",
   "metadata": {},
   "source": [
    "## Question 2"
   ]
  },
  {
   "cell_type": "code",
   "execution_count": 32,
   "id": "857dbab9-4539-4b46-972a-37229cd94372",
   "metadata": {},
   "outputs": [],
   "source": [
    "array = [ -2, -1, -3, 0, 3, 1, 2]"
   ]
  },
  {
   "cell_type": "code",
   "execution_count": 33,
   "id": "7d158316-c364-4c49-bf95-300fb44bb927",
   "metadata": {},
   "outputs": [],
   "source": [
    "length = len(array)\n",
    "for i in range(length):\n",
    "    for j in range(0, length-i-1):\n",
    "        if array[j] < array[j+1]:\n",
    "            array[j], array[j+1] = array[j+1], array[j]"
   ]
  },
  {
   "cell_type": "code",
   "execution_count": 34,
   "id": "87a845a5-ea3d-44ee-9943-ef37cc394fd6",
   "metadata": {},
   "outputs": [
    {
     "name": "stdout",
     "output_type": "stream",
     "text": [
      "[3, 2, 1, 0, -1, -2, -3]\n"
     ]
    }
   ],
   "source": [
    "print(array)"
   ]
  },
  {
   "cell_type": "markdown",
   "id": "9d66d3e6-241e-43cd-ab9f-60516890a4fd",
   "metadata": {},
   "source": [
    "## Question 3"
   ]
  },
  {
   "cell_type": "code",
   "execution_count": 35,
   "id": "04d06c67-f5be-47dc-b916-46d5332c3987",
   "metadata": {},
   "outputs": [],
   "source": [
    "array = [ -2, -1, -3, 0, 3, 1, 2]"
   ]
  },
  {
   "cell_type": "code",
   "execution_count": 36,
   "id": "0611f68c-83ba-4517-90a6-0aa6c555158a",
   "metadata": {},
   "outputs": [],
   "source": [
    "length = len(array)\n",
    "for i in range(length):\n",
    "    for j in range(0, length-i-1):\n",
    "        if array[j] > 0 and array[j+1] > 0:\n",
    "            if array[j] > array[j+1]:\n",
    "                array[j], array[j+1] = array[j+1], array[j]"
   ]
  },
  {
   "cell_type": "code",
   "execution_count": 37,
   "id": "f5a63da9-8ea9-4528-b827-d215b308fecf",
   "metadata": {},
   "outputs": [
    {
     "name": "stdout",
     "output_type": "stream",
     "text": [
      "[-2, -1, -3, 0, 1, 2, 3]\n"
     ]
    }
   ],
   "source": [
    "print(array)"
   ]
  },
  {
   "cell_type": "markdown",
   "id": "0d1697a6-70b4-4f0e-a958-707a210f4241",
   "metadata": {},
   "source": [
    "## Question 4"
   ]
  },
  {
   "cell_type": "code",
   "execution_count": 38,
   "id": "779c6223-ae3a-4b3f-9a39-f08ab5a7d07b",
   "metadata": {},
   "outputs": [],
   "source": [
    "array = [ -2, -1, -3, 0, 3, 1, 2]"
   ]
  },
  {
   "cell_type": "code",
   "execution_count": 39,
   "id": "e73590b3-2a46-4ecc-9061-7c61cb4eb627",
   "metadata": {},
   "outputs": [],
   "source": [
    "length = len(array)\n",
    "for i in range(length):\n",
    "    for j in range(0, length-i-1):\n",
    "        if array[j] < 0 and array[j+1] < 0:\n",
    "            if array[j] < array[j+1]:\n",
    "                array[j], array[j+1] = array[j+1], array[j]"
   ]
  },
  {
   "cell_type": "code",
   "execution_count": 40,
   "id": "826b1201-5c68-47bf-bf42-7413bb3883c7",
   "metadata": {},
   "outputs": [
    {
     "name": "stdout",
     "output_type": "stream",
     "text": [
      "[-1, -2, -3, 0, 3, 1, 2]\n"
     ]
    }
   ],
   "source": [
    "print(array)"
   ]
  },
  {
   "cell_type": "markdown",
   "id": "6e499f4c-a33e-4f2d-a355-b15ab79b0b69",
   "metadata": {},
   "source": [
    "## Question 5"
   ]
  },
  {
   "cell_type": "code",
   "execution_count": 41,
   "id": "8f5a11f4-a7b6-4209-906a-5e9982be7904",
   "metadata": {},
   "outputs": [],
   "source": [
    "array = [ -2, -1, -3, 0, 3, 1, 2]"
   ]
  },
  {
   "cell_type": "code",
   "execution_count": 46,
   "id": "e1273fc0-823d-4fe0-9a91-89307e04f81c",
   "metadata": {},
   "outputs": [
    {
     "name": "stdout",
     "output_type": "stream",
     "text": [
      "That number is located at offset 3\n"
     ]
    }
   ],
   "source": [
    "length = len(array)\n",
    "for i in range(length):\n",
    "    if array[i] == 0:\n",
    "        print(\"That number is located at offset \" + str(i))\n",
    "    "
   ]
  },
  {
   "cell_type": "code",
   "execution_count": null,
   "id": "2e3ee58a-b503-4398-bd0e-b1f9b1398a19",
   "metadata": {},
   "outputs": [],
   "source": []
  }
 ],
 "metadata": {
  "kernelspec": {
   "display_name": "Python 3 (ipykernel)",
   "language": "python",
   "name": "python3"
  },
  "language_info": {
   "codemirror_mode": {
    "name": "ipython",
    "version": 3
   },
   "file_extension": ".py",
   "mimetype": "text/x-python",
   "name": "python",
   "nbconvert_exporter": "python",
   "pygments_lexer": "ipython3",
   "version": "3.12.2"
  }
 },
 "nbformat": 4,
 "nbformat_minor": 5
}
