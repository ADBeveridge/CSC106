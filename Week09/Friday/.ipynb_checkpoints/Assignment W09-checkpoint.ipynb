{
 "cells": [
  {
   "cell_type": "markdown",
   "id": "bbded795-4798-4123-8d04-fd54f65ba6c6",
   "metadata": {},
   "source": [
    "# Using functions"
   ]
  },
  {
   "cell_type": "code",
   "execution_count": 3,
   "id": "4cc08fe0-07c8-4999-9291-5b5e5e17c051",
   "metadata": {},
   "outputs": [],
   "source": [
    "def get_patient_info():\n",
    "    category = input(\"Enter patient's category: \")\n",
    "    temperature = float(input(\"Enter patient's temperature: \"))\n",
    "    return category, temperature"
   ]
  },
  {
   "cell_type": "code",
   "execution_count": 13,
   "id": "1834dd60-566d-44ec-9d6e-856dcb81b001",
   "metadata": {},
   "outputs": [],
   "source": [
    "def check_temp(temperature, category):\n",
    "    # Run some checks on input data.\n",
    "    if category not in [\"adult\", \"child\", \"baby\"]:\n",
    "        return \"Invalid category\"\n",
    "    if temperature < 50 or temperature > 150:\n",
    "        return \"Invalid temperature\"\n",
    "    # Check possible temperatures, then age categories\n",
    "    if temperature <= 95:\n",
    "        return \"Hypothermia: SEEK CARE\"\n",
    "    elif temperature <= 96.9:\n",
    "        if category == \"baby\":\n",
    "            return \"Low: SEEK CARE\"\n",
    "        else:\n",
    "            return \"Low but possibly normal\"\n",
    "    elif temperature <= 98.6:\n",
    "        return \"Normal\"\n",
    "    elif temperature <= 100.4:\n",
    "        if category == \"baby\":\n",
    "            return \"Low grade fever\"\n",
    "        else:\n",
    "            return \"Normal or low grade fever\"\n",
    "    elif temperature <= 103:\n",
    "        if category == \"baby\":\n",
    "            return \"Fever: SEEK CARE\"\n",
    "        else:\n",
    "            return \"Fever\"\n",
    "    else:\n",
    "        if category == \"baby\":\n",
    "            return \"High fever: SEEK CARE\"\n",
    "        else:\n",
    "            return \"High fever: CALL YOUR DOCTOR\""
   ]
  },
  {
   "cell_type": "code",
   "execution_count": 14,
   "id": "3bfdad7d-deb3-46a0-8be8-2eea8e31b9c1",
   "metadata": {},
   "outputs": [
    {
     "name": "stdin",
     "output_type": "stream",
     "text": [
      "Enter patient's category:  adult\n",
      "Enter patient's temperature:  23\n"
     ]
    },
    {
     "name": "stdout",
     "output_type": "stream",
     "text": [
      "Invalid temperature\n"
     ]
    }
   ],
   "source": [
    "category, temperature = get_patient_info()\n",
    "status = check_temp(temperature, category)\n",
    "print(status)"
   ]
  },
  {
   "cell_type": "markdown",
   "id": "3ef04b90-c033-404f-91a4-3654dc7a78fc",
   "metadata": {},
   "source": [
    "# Using lambdas"
   ]
  },
  {
   "cell_type": "code",
   "execution_count": 18,
   "id": "292bc21a-82fb-43ed-896d-34fea42eed1c",
   "metadata": {},
   "outputs": [],
   "source": [
    "get_patient_info = lambda: (input(\"Enter patient's category: \"), float(input(\"Enter patient's temperature: \")))"
   ]
  },
  {
   "cell_type": "code",
   "execution_count": 19,
   "id": "729d16f3-bcff-498d-923c-877d265f8fea",
   "metadata": {},
   "outputs": [],
   "source": [
    "check_temp = lambda temperature, category: (\n",
    "    \"Invalid category\" if category not in [\"adult\", \"child\", \"baby\"] else\n",
    "    \"Invalid temperature\" if temperature < 50 or temperature > 150 else\n",
    "    \"Hypothermia: SEEK CARE\" if temperature <= 95 else\n",
    "    \"Low: SEEK CARE\" if temperature <= 96.9 and category == \"baby\" else\n",
    "    \"Low but possibly normal\" if temperature <= 96.9 else\n",
    "    \"Normal\" if temperature <= 98.6 else\n",
    "    \"Low grade fever\" if temperature <= 100.4 and category == \"baby\" else\n",
    "    \"Normal or low grade fever\" if temperature <= 100.4 else\n",
    "    \"Fever: SEEK CARE\" if temperature <= 103 and category == \"baby\" else\n",
    "    \"Fever\" if temperature <= 103 else\n",
    "    \"High fever: SEEK CARE\" if temperature > 103 and category == \"baby\" else\n",
    "    \"High fever: CALL YOUR DOCTOR\"\n",
    ")\n"
   ]
  },
  {
   "cell_type": "code",
   "execution_count": 20,
   "id": "f54e63a1-0965-4458-9c4a-1b954d915b0a",
   "metadata": {},
   "outputs": [
    {
     "name": "stdin",
     "output_type": "stream",
     "text": [
      "Enter patient's category:  baby\n",
      "Enter patient's temperature:  90\n"
     ]
    },
    {
     "name": "stdout",
     "output_type": "stream",
     "text": [
      "Hypothermia: SEEK CARE\n"
     ]
    }
   ],
   "source": [
    "category, temperature = get_patient_info()\n",
    "status = check_temp(temperature, category)\n",
    "print(status)"
   ]
  },
  {
   "cell_type": "code",
   "execution_count": null,
   "id": "fea8ad24-18f7-4b47-8d3e-d023a2952725",
   "metadata": {},
   "outputs": [],
   "source": []
  }
 ],
 "metadata": {
  "kernelspec": {
   "display_name": "Python 3 (ipykernel)",
   "language": "python",
   "name": "python3"
  },
  "language_info": {
   "codemirror_mode": {
    "name": "ipython",
    "version": 3
   },
   "file_extension": ".py",
   "mimetype": "text/x-python",
   "name": "python",
   "nbconvert_exporter": "python",
   "pygments_lexer": "ipython3",
   "version": "3.12.2"
  }
 },
 "nbformat": 4,
 "nbformat_minor": 5
}
