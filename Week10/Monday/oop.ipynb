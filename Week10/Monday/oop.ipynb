{
 "cells": [
  {
   "cell_type": "code",
   "execution_count": 6,
   "id": "2f7cd978-a562-4689-9db1-41fd2aaf0a1a",
   "metadata": {},
   "outputs": [],
   "source": [
    "class Person:\n",
    "    def __init__(self, N, G, A):\n",
    "        self.Name = N\n",
    "        self.Gender = G\n",
    "        self.Age = A\n",
    "\n",
    "    def Talk(self):\n",
    "        print(\"HI\")\n",
    "\n",
    "man = Person(\"Alan\", \"Man\", \"18\")\n"
   ]
  },
  {
   "cell_type": "code",
   "execution_count": 5,
   "id": "6f75c53b-42e2-4288-a88b-45a2888c123e",
   "metadata": {},
   "outputs": [],
   "source": [
    "import pandas as pd"
   ]
  },
  {
   "cell_type": "code",
   "execution_count": 7,
   "id": "f5d7b4d7-d0c5-49d2-b910-c7e3582b2446",
   "metadata": {},
   "outputs": [
    {
     "name": "stdout",
     "output_type": "stream",
     "text": [
      "HI\n"
     ]
    }
   ],
   "source": [
    "man.Talk()"
   ]
  },
  {
   "cell_type": "code",
   "execution_count": null,
   "id": "9adaf7ac-4821-496c-906e-2937d41a4df1",
   "metadata": {},
   "outputs": [],
   "source": []
  }
 ],
 "metadata": {
  "kernelspec": {
   "display_name": "Python 3 (ipykernel)",
   "language": "python",
   "name": "python3"
  },
  "language_info": {
   "codemirror_mode": {
    "name": "ipython",
    "version": 3
   },
   "file_extension": ".py",
   "mimetype": "text/x-python",
   "name": "python",
   "nbconvert_exporter": "python",
   "pygments_lexer": "ipython3",
   "version": "3.12.2"
  }
 },
 "nbformat": 4,
 "nbformat_minor": 5
}
