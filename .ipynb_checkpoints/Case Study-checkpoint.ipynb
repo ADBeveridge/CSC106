{
 "cells": [
  {
   "cell_type": "markdown",
   "id": "d96f45a4-a072-46fd-92b3-3e730dddf98a",
   "metadata": {},
   "source": [
    "# 1"
   ]
  },
  {
   "cell_type": "code",
   "execution_count": 5,
   "id": "44b65492-16bd-49e9-a42e-dfc8bbf41f67",
   "metadata": {},
   "outputs": [
    {
     "name": "stdout",
     "output_type": "stream",
     "text": [
      "[1, 2, 3, 4, 5]\n"
     ]
    }
   ],
   "source": [
    "array = [5, 4, 3, 2, 1] \n",
    "\n",
    "length = len(array)\n",
    "for i in range(length):\n",
    "    for j in range(0, length-i-1):\n",
    "        if array[j] > array[j+1]:\n",
    "            array[j], array[j+1] = array[j+1], array[j]\n",
    "\n",
    "print(array)"
   ]
  },
  {
   "cell_type": "markdown",
   "id": "79fb1cf8-a12c-47a7-9574-981c4091f6b9",
   "metadata": {},
   "source": [
    "# 2"
   ]
  },
  {
   "cell_type": "code",
   "execution_count": 6,
   "id": "2d820dea-80dd-4d0d-babd-7fd3845aa7dd",
   "metadata": {},
   "outputs": [
    {
     "name": "stdout",
     "output_type": "stream",
     "text": [
      "[5, 4, 3, 2, 1]\n"
     ]
    }
   ],
   "source": [
    "array = [1, 2, 3, 4, 5]\n",
    "\n",
    "length = len(array)\n",
    "for i in range(length):\n",
    "    for j in range(0, length-i-1):\n",
    "        if array[j] < array[j+1]:\n",
    "            array[j], array[j+1] = array[j+1], array[j]\n",
    "\n",
    "print(array)"
   ]
  },
  {
   "cell_type": "markdown",
   "id": "beff550f-cc2d-48dd-8e2e-005db16e2f4f",
   "metadata": {},
   "source": [
    "# 3"
   ]
  },
  {
   "cell_type": "code",
   "execution_count": 10,
   "id": "8169486c-08ef-4654-ad97-dda08185c3ac",
   "metadata": {},
   "outputs": [
    {
     "name": "stdout",
     "output_type": "stream",
     "text": [
      "Largest numbers are 5 and 5\n"
     ]
    }
   ],
   "source": [
    "array1 = [5, 4, 3, 2, 1]\n",
    "array2 = [1, 2, 3, 4, 5]\n",
    "\n",
    "# Sorting then getting last item. \n",
    "\n",
    "length = len(array1)\n",
    "for i in range(length):\n",
    "    for j in range(0, length-i-1):\n",
    "        if array1[j] > array1[j+1]:\n",
    "            array1[j], array1[j+1] = array1[j+1], array1[j]\n",
    "\n",
    "length = len(array2)\n",
    "for i in range(length):\n",
    "    for j in range(0, length-i-1):\n",
    "        if array2[j] > array2[j+1]:\n",
    "            array2[j], array2[j+1] = array2[j+1], array2[j]\n",
    "\n",
    "print(\"Largest numbers are \" + str(array1[-1]) + \" and \" + str(array2[-1]))"
   ]
  },
  {
   "cell_type": "markdown",
   "id": "b78f5128-4e2b-4ef6-8af9-d722e1e91be5",
   "metadata": {},
   "source": [
    "# 4"
   ]
  },
  {
   "cell_type": "code",
   "execution_count": 12,
   "id": "2a44322e-9a92-4ae0-b2b2-4291b8bfda0c",
   "metadata": {},
   "outputs": [
    {
     "name": "stdout",
     "output_type": "stream",
     "text": [
      "Smallest numbers are 1 and 1\n"
     ]
    }
   ],
   "source": [
    "array1 = [5, 4, 3, 2, 1]\n",
    "array2 = [1, 2, 3, 4, 5]\n",
    "\n",
    "# Sorting then getting last item. \n",
    "\n",
    "length = len(array1)\n",
    "for i in range(length):\n",
    "    for j in range(0, length-i-1):\n",
    "        if array1[j] > array1[j+1]:\n",
    "            array1[j], array1[j+1] = array1[j+1], array1[j]\n",
    "\n",
    "length = len(array2)\n",
    "for i in range(length):\n",
    "    for j in range(0, length-i-1):\n",
    "        if array2[j] > array2[j+1]:\n",
    "            array2[j], array2[j+1] = array2[j+1], array2[j]\n",
    "\n",
    "print(\"Smallest numbers are \" + str(array1[0]) + \" and \" + str(array2[0]))"
   ]
  },
  {
   "cell_type": "code",
   "execution_count": null,
   "id": "0646229f-4527-4332-b9aa-2c99170b61ec",
   "metadata": {},
   "outputs": [],
   "source": []
  }
 ],
 "metadata": {
  "kernelspec": {
   "display_name": "Python 3 (ipykernel)",
   "language": "python",
   "name": "python3"
  },
  "language_info": {
   "codemirror_mode": {
    "name": "ipython",
    "version": 3
   },
   "file_extension": ".py",
   "mimetype": "text/x-python",
   "name": "python",
   "nbconvert_exporter": "python",
   "pygments_lexer": "ipython3",
   "version": "3.12.2"
  }
 },
 "nbformat": 4,
 "nbformat_minor": 5
}
