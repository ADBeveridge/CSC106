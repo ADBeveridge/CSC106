{
 "cells": [
  {
   "cell_type": "code",
   "execution_count": 17,
   "id": "b17cb273-f443-4b2e-9a87-4cc5933bb2b6",
   "metadata": {},
   "outputs": [
    {
     "name": "stdout",
     "output_type": "stream",
     "text": [
      "Name is invalid: bad name\n",
      "Phone number is invalid: bad phone number\n",
      "URL is invalid: bad website address\n"
     ]
    }
   ],
   "source": [
    "import re\n",
    "\n",
    "def validate_name(name):\n",
    "  # make sure there are no numbers .\n",
    "  if not re.match(r\"^[A-Za-z ]+$\", name):\n",
    "    raise ValueError(\"bad name\")\n",
    "  return True\n",
    "\n",
    "def validate_phone_number(phone_number):\n",
    "  # Make sure everything is a number here.\n",
    "  if not re.match(r'^[0-9]+$', phone_number):\n",
    "    raise ValueError(\"bad phone number\")\n",
    "  return True\n",
    "\n",
    "def validate_url(url):\n",
    "  # Makd sure domain separator is in right place .\n",
    "  if url[-4] != '.':\n",
    "    raise ValueError(\"bad website address\")\n",
    "  return True\n",
    "\n",
    "try:\n",
    "  name = \"Ja8ck\"\n",
    "  validate_name(name)\n",
    "  print(\"Name is valid.\")\n",
    "except ValueError as e:\n",
    "  print(f\"Name is invalid: {e}\")\n",
    "\n",
    "try:\n",
    "  phone_number = \"(7O1) 355-8030\"\n",
    "  validate_phone_number(phone_number)\n",
    "  print(\"Phone number is valid.\")\n",
    "except ValueError as e:\n",
    "  print(f\"Phone number is invalid: {e}\")\n",
    "\n",
    "try:\n",
    "  url = \"enroll2umary.edur\"\n",
    "  validate_url(url)\n",
    "  print(\"URL is valid.\")\n",
    "except ValueError as e:\n",
    "  print(f\"URL is invalid: {e}\")"
   ]
  },
  {
   "cell_type": "code",
   "execution_count": null,
   "id": "0ced7e59-9ad5-472c-88e7-54b7b5c8cbcd",
   "metadata": {},
   "outputs": [],
   "source": []
  }
 ],
 "metadata": {
  "kernelspec": {
   "display_name": "Python 3 (ipykernel)",
   "language": "python",
   "name": "python3"
  },
  "language_info": {
   "codemirror_mode": {
    "name": "ipython",
    "version": 3
   },
   "file_extension": ".py",
   "mimetype": "text/x-python",
   "name": "python",
   "nbconvert_exporter": "python",
   "pygments_lexer": "ipython3",
   "version": "3.12.2"
  }
 },
 "nbformat": 4,
 "nbformat_minor": 5
}
