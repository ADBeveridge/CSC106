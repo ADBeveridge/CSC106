{
 "cells": [
  {
   "cell_type": "markdown",
   "id": "c6fb69f9",
   "metadata": {},
   "source": [
    "# Homework"
   ]
  },
  {
   "cell_type": "code",
   "execution_count": 33,
   "id": "7b1facb4-f6ad-4ae7-980a-40ade01442af",
   "metadata": {},
   "outputs": [
    {
     "name": "stdout",
     "output_type": "stream",
     "text": [
      "Good morning Sam, Welcome to Hyatt\n",
      "Have a wonderful stay.\n",
      "Good morning Sally, Welcome to Holiday Inn\n",
      "Have a wonderful stay.\n",
      "Good morning Teddy, Welcome to Ramada\n",
      "Have a wonderful stay.\n",
      "Wakeup Teddy\n"
     ]
    }
   ],
   "source": [
    "import time\n",
    "\n",
    "hotels = [\"Hyatt\", \"Holiday Inn\", \"Ramada\"]\n",
    "names = [\"Sam\", \"Sally\", \"Teddy\"]\n",
    "times = [\"0700\", \"0400\", \"1600\"]\n",
    "\n",
    "def customer_greetings():\n",
    "  for i in range (0,3): \n",
    "    print(\"Good morning \" + names[i] + \", Welcome to \" + hotels[i])\n",
    "    time.sleep(2)\n",
    "    print(\"Have a wonderful stay.\")\n",
    "\n",
    "customer_greetings()\n",
    "\n",
    "\n",
    "from datetime import datetime\n",
    "now = datetime.now()\n",
    "current_time = str(now.strftime(\"%H\")) + \"00\"\n",
    "\n",
    "try:\n",
    "    index = times.index(current_time)\n",
    "    print (\"Wakeup \" + names[index])\n",
    "except ValueError:\n",
    "    ;\n"
   ]
  }
 ],
 "metadata": {
  "kernelspec": {
   "display_name": "Python 3 (ipykernel)",
   "language": "python",
   "name": "python3"
  },
  "language_info": {
   "codemirror_mode": {
    "name": "ipython",
    "version": 3
   },
   "file_extension": ".py",
   "mimetype": "text/x-python",
   "name": "python",
   "nbconvert_exporter": "python",
   "pygments_lexer": "ipython3",
   "version": "3.12.2"
  }
 },
 "nbformat": 4,
 "nbformat_minor": 5
}
