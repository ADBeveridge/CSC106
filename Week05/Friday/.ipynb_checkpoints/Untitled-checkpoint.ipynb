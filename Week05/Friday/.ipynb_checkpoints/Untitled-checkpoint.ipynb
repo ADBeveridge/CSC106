{
 "cells": [
  {
   "cell_type": "code",
   "execution_count": 1,
   "id": "ae4ec540-bad6-4748-91f2-7e6c0f5b63c1",
   "metadata": {},
   "outputs": [
    {
     "name": "stdout",
     "output_type": "stream",
     "text": [
      "Directory: ../../\n",
      "  Subdirectory: Week04\n",
      "  Subdirectory: Week03\n",
      "  Subdirectory: Week05\n",
      "  Subdirectory: Week01\n",
      "  Subdirectory: Week02\n",
      "Directory: ../../Week04\n",
      "  Subdirectory: Monday\n",
      "  Subdirectory: Friday\n",
      "  Subdirectory: Wednesday\n",
      "Directory: ../../Week04/Monday\n",
      "  File: In Class Assignment W04M.ipynb\n",
      "Directory: ../../Week04/Friday\n",
      "Directory: ../../Week04/Wednesday\n",
      "  File: DataContainers.ipynb\n",
      "Directory: ../../Week03\n",
      "  Subdirectory: Monday\n",
      "Directory: ../../Week03/Monday\n",
      "  File: umary.py\n",
      "Directory: ../../Week05\n",
      "  Subdirectory: Monday\n",
      "  Subdirectory: Friday\n",
      "Directory: ../../Week05/Monday\n",
      "  File: baseball.csv\n",
      "  File: data-sources.ipynb\n",
      "Directory: ../../Week05/Friday\n",
      "  Subdirectory: .ipynb_checkpoints\n",
      "  File: Untitled.ipynb\n",
      "  File: DataFrame.ipynb\n",
      "  File: homework-wo5f.py\n",
      "Directory: ../../Week05/Friday/.ipynb_checkpoints\n",
      "  File: Untitled-checkpoint.ipynb\n",
      "Directory: ../../Week01\n",
      "Directory: ../../Week02\n",
      "  Subdirectory: Monday\n",
      "Directory: ../../Week02/Monday\n",
      "  File: Quiz01.ipynb\n"
     ]
    }
   ],
   "source": [
    "import os\n",
    "\n",
    "for root, dirs, files in os.walk(\"../../\"):\n",
    "    print(\"Directory: \" + root)\n",
    "\n",
    "    # Skip GIT files\n",
    "    if \".git\" in dirs:\n",
    "        dirs.remove(\".git\")\n",
    "\n",
    "    for dir_name in dirs:\n",
    "        print(\"  Subdirectory: \" + dir_name)\n",
    "    for file_name in files:\n",
    "        print(\"  File: \" + file_name)"
   ]
  },
  {
   "cell_type": "code",
   "execution_count": null,
   "id": "9ac2e7f1-d912-4efa-86b0-be9be39f1ebc",
   "metadata": {},
   "outputs": [],
   "source": []
  }
 ],
 "metadata": {
  "kernelspec": {
   "display_name": "Python 3 (ipykernel)",
   "language": "python",
   "name": "python3"
  },
  "language_info": {
   "codemirror_mode": {
    "name": "ipython",
    "version": 3
   },
   "file_extension": ".py",
   "mimetype": "text/x-python",
   "name": "python",
   "nbconvert_exporter": "python",
   "pygments_lexer": "ipython3",
   "version": "3.12.2"
  }
 },
 "nbformat": 4,
 "nbformat_minor": 5
}
