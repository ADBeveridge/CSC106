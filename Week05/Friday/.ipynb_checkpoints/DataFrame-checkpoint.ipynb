{
 "cells": [
  {
   "cell_type": "code",
   "execution_count": 61,
   "id": "8499cf61-86e6-4399-8b57-af9b0e997ff2",
   "metadata": {},
   "outputs": [
    {
     "data": {
      "text/html": [
       "<div>\n",
       "<style scoped>\n",
       "    .dataframe tbody tr th:only-of-type {\n",
       "        vertical-align: middle;\n",
       "    }\n",
       "\n",
       "    .dataframe tbody tr th {\n",
       "        vertical-align: top;\n",
       "    }\n",
       "\n",
       "    .dataframe thead th {\n",
       "        text-align: right;\n",
       "    }\n",
       "</style>\n",
       "<table border=\"1\" class=\"dataframe\">\n",
       "  <thead>\n",
       "    <tr style=\"text-align: right;\">\n",
       "      <th></th>\n",
       "      <th>Dictionaries</th>\n",
       "      <th>Tuples</th>\n",
       "      <th>Lists</th>\n",
       "    </tr>\n",
       "  </thead>\n",
       "  <tbody>\n",
       "    <tr>\n",
       "      <th>0</th>\n",
       "      <td>{'Name': 'Allan', 'Dic': [5, 6, 7]}</td>\n",
       "      <td>(2, 4, [8, 7, 30], 6, 220, 10, 77, 54)</td>\n",
       "      <td>[1, 1.1, A, True, [5, 6, 7]]</td>\n",
       "    </tr>\n",
       "    <tr>\n",
       "      <th>1</th>\n",
       "      <td>{'Name': 'Lane', 'Dic': {'Dic': 'Dictionary'}}</td>\n",
       "      <td>(2, 4, {'Name': 'Tuple'}, 6, 220, 10, 77, 54)</td>\n",
       "      <td>[1, 1.1, A, True, {'Name': 'List'}]</td>\n",
       "    </tr>\n",
       "    <tr>\n",
       "      <th>2</th>\n",
       "      <td>{'Name': 'Phillip', 'Dic': (5, 6, 7)}</td>\n",
       "      <td>(2, 4, (8, 7, 30), 6, 220, 10, 77, 54)</td>\n",
       "      <td>[1, 1.1, A, True, (5, 6, 7)]</td>\n",
       "    </tr>\n",
       "  </tbody>\n",
       "</table>\n",
       "</div>"
      ],
      "text/plain": [
       "                                     Dictionaries  \\\n",
       "0             {'Name': 'Allan', 'Dic': [5, 6, 7]}   \n",
       "1  {'Name': 'Lane', 'Dic': {'Dic': 'Dictionary'}}   \n",
       "2           {'Name': 'Phillip', 'Dic': (5, 6, 7)}   \n",
       "\n",
       "                                          Tuples  \\\n",
       "0         (2, 4, [8, 7, 30], 6, 220, 10, 77, 54)   \n",
       "1  (2, 4, {'Name': 'Tuple'}, 6, 220, 10, 77, 54)   \n",
       "2         (2, 4, (8, 7, 30), 6, 220, 10, 77, 54)   \n",
       "\n",
       "                                 Lists  \n",
       "0         [1, 1.1, A, True, [5, 6, 7]]  \n",
       "1  [1, 1.1, A, True, {'Name': 'List'}]  \n",
       "2         [1, 1.1, A, True, (5, 6, 7)]  "
      ]
     },
     "execution_count": 61,
     "metadata": {},
     "output_type": "execute_result"
    }
   ],
   "source": [
    "import pandas as pd\n",
    "import warnings\n",
    "warnings.filterwarnings(\"ignore\", category=FutureWarning)\n",
    "\n",
    "# Dictionaries\n",
    "# Dictionary with List\n",
    "DL = {\"Name\" : \"Allan\",\n",
    "    \"Dic\" : [5, 6, 7]}\n",
    "\n",
    "# Dictionary with Dictionary\n",
    "DD = {\"Name\" : \"Lane\",\n",
    "    \"Dic\" : {\"Dic\" : \"Dictionary\"}}\n",
    "\n",
    "# Dictionary with Tuple\n",
    "DT = {\"Name\" : \"Phillip\",\n",
    "    \"Dic\" : (5, 6, 7)}\n",
    "\n",
    "# Tuples\n",
    "# Tuple with List\n",
    "TL = (2, 4, [8, 7, 30], 6, 220, 10, 77, 54)\n",
    "\n",
    "# Tuple with Dictionary\n",
    "TD = (2, 4, {\"Name\":\"Tuple\"}, 6, 220, 10, 77, 54)\n",
    "\n",
    "# Tuple with Tuple\n",
    "TT = (2, 4, (8, 7, 30), 6, 220, 10, 77, 54)\n",
    "\n",
    "#Lists\n",
    "# List with List\n",
    "LL = [1, 1.1, 'A', True, [5, 6, 7]]\n",
    "\n",
    "# List with Dictionary\n",
    "LD = [1, 1.1, 'A', True, {\"Name\" : \"List\"}]\n",
    "\n",
    "# List with Tuple\n",
    "LT = [1, 1.1, 'A', True, (5, 6, 7)]\n",
    "\n",
    "\n",
    "#Sets\n",
    "# Set with List\n",
    "SL = {1, 1.1, 'A', False, \"No Lists in sets\"}\n",
    "\n",
    "# Set with Dictionary\n",
    "SD = {1, 1.1, 'A', False, \"No Dicts in sets\"}\n",
    "\n",
    "# Set with Tuple\n",
    "ST = {1, 1.1, 'A', True, (5, 6, 7)}\n",
    "\n",
    "Data = {\n",
    "    \"Dictionaries\" : [DL, DD, DT],\n",
    "    \"Tuples\" : [TL, TD, TT],\n",
    "    \"Lists\" : [LL, LD, LT]\n",
    "}\n",
    "\n",
    "Datatable = pd.DataFrame(Data)\n",
    "Datatable"
   ]
  },
  {
   "cell_type": "code",
   "execution_count": 63,
   "id": "3e0f781f-92dc-4541-b777-d19f15d83ed6",
   "metadata": {},
   "outputs": [
    {
     "name": "stdout",
     "output_type": "stream",
     "text": [
      "{'Name': 'Allan', 'Dic': [5, 6, 7]}\n"
     ]
    },
    {
     "data": {
      "text/plain": [
       "{'Name': 'Allan', 'Dic': ['Sarah', 6, 7]}"
      ]
     },
     "execution_count": 63,
     "metadata": {},
     "output_type": "execute_result"
    }
   ],
   "source": [
    "print(Datatable.loc[0][0])\n",
    "Datatable.loc[0][0][\"Dic\"][0] = \"Sarah\"\n",
    "Datatable.loc[0][0]"
   ]
  },
  {
   "cell_type": "code",
   "execution_count": 65,
   "id": "c442b9df-509a-46b1-8b7a-569676da1b7c",
   "metadata": {},
   "outputs": [
    {
     "data": {
      "text/html": [
       "<div>\n",
       "<style scoped>\n",
       "    .dataframe tbody tr th:only-of-type {\n",
       "        vertical-align: middle;\n",
       "    }\n",
       "\n",
       "    .dataframe tbody tr th {\n",
       "        vertical-align: top;\n",
       "    }\n",
       "\n",
       "    .dataframe thead th {\n",
       "        text-align: right;\n",
       "    }\n",
       "</style>\n",
       "<table border=\"1\" class=\"dataframe\">\n",
       "  <thead>\n",
       "    <tr style=\"text-align: right;\">\n",
       "      <th></th>\n",
       "      <th>Dictionaries</th>\n",
       "      <th>Tuples</th>\n",
       "      <th>Lists</th>\n",
       "      <th>Sets</th>\n",
       "    </tr>\n",
       "  </thead>\n",
       "  <tbody>\n",
       "    <tr>\n",
       "      <th>0</th>\n",
       "      <td>{'Name': 'Allan', 'Dic': ['Sarah', 6, 7]}</td>\n",
       "      <td>(2, 4, [8, 7, 30], 6, 220, 10, 77, 54)</td>\n",
       "      <td>[1, 1.1, A, True, [5, 6, 7]]</td>\n",
       "      <td>{False, 1, 1.1, No Lists in sets, A}</td>\n",
       "    </tr>\n",
       "    <tr>\n",
       "      <th>1</th>\n",
       "      <td>{'Name': 'Lane', 'Dic': {'Dic': 'Dictionary'}}</td>\n",
       "      <td>(2, 4, {'Name': 'Tuple'}, 6, 220, 10, 77, 54)</td>\n",
       "      <td>[1, 1.1, A, True, {'Name': 'List'}]</td>\n",
       "      <td>{False, 1, 1.1, A, No Dicts in sets}</td>\n",
       "    </tr>\n",
       "    <tr>\n",
       "      <th>2</th>\n",
       "      <td>{'Name': 'Phillip', 'Dic': (5, 6, 7)}</td>\n",
       "      <td>(2, 4, (8, 7, 30), 6, 220, 10, 77, 54)</td>\n",
       "      <td>[1, 1.1, A, True, (5, 6, 7)]</td>\n",
       "      <td>{(5, 6, 7), 1, A, 1.1}</td>\n",
       "    </tr>\n",
       "  </tbody>\n",
       "</table>\n",
       "</div>"
      ],
      "text/plain": [
       "                                     Dictionaries  \\\n",
       "0       {'Name': 'Allan', 'Dic': ['Sarah', 6, 7]}   \n",
       "1  {'Name': 'Lane', 'Dic': {'Dic': 'Dictionary'}}   \n",
       "2           {'Name': 'Phillip', 'Dic': (5, 6, 7)}   \n",
       "\n",
       "                                          Tuples  \\\n",
       "0         (2, 4, [8, 7, 30], 6, 220, 10, 77, 54)   \n",
       "1  (2, 4, {'Name': 'Tuple'}, 6, 220, 10, 77, 54)   \n",
       "2         (2, 4, (8, 7, 30), 6, 220, 10, 77, 54)   \n",
       "\n",
       "                                 Lists                                  Sets  \n",
       "0         [1, 1.1, A, True, [5, 6, 7]]  {False, 1, 1.1, No Lists in sets, A}  \n",
       "1  [1, 1.1, A, True, {'Name': 'List'}]  {False, 1, 1.1, A, No Dicts in sets}  \n",
       "2         [1, 1.1, A, True, (5, 6, 7)]                {(5, 6, 7), 1, A, 1.1}  "
      ]
     },
     "execution_count": 65,
     "metadata": {},
     "output_type": "execute_result"
    }
   ],
   "source": [
    "Sets = [SL, SD, ST]\n",
    "Data[\"Sets\"] = Sets\n",
    "Datatable = pd.DataFrame(Data)\n",
    "Datatable"
   ]
  },
  {
   "cell_type": "code",
   "execution_count": null,
   "id": "9910dbc1-9c67-4861-8bd1-fbb1fb2ff17d",
   "metadata": {},
   "outputs": [],
   "source": []
  },
  {
   "cell_type": "code",
   "execution_count": null,
   "id": "833dd269-7a1d-4f11-88fb-979f9fbcbc84",
   "metadata": {},
   "outputs": [],
   "source": []
  }
 ],
 "metadata": {
  "kernelspec": {
   "display_name": "Python 3 (ipykernel)",
   "language": "python",
   "name": "python3"
  },
  "language_info": {
   "codemirror_mode": {
    "name": "ipython",
    "version": 3
   },
   "file_extension": ".py",
   "mimetype": "text/x-python",
   "name": "python",
   "nbconvert_exporter": "python",
   "pygments_lexer": "ipython3",
   "version": "3.12.3"
  }
 },
 "nbformat": 4,
 "nbformat_minor": 5
}
