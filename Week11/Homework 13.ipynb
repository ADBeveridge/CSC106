{
 "cells": [
  {
   "cell_type": "code",
   "execution_count": 9,
   "id": "cee4fab0-6f7a-44d9-a875-d927f1238d75",
   "metadata": {},
   "outputs": [
    {
     "ename": "SyntaxError",
     "evalue": "invalid syntax (1227585089.py, line 14)",
     "output_type": "error",
     "traceback": [
      "\u001b[0;36m  Cell \u001b[0;32mIn[9], line 14\u001b[0;36m\u001b[0m\n\u001b[0;31m    print(self.)\u001b[0m\n\u001b[0m               ^\u001b[0m\n\u001b[0;31mSyntaxError\u001b[0m\u001b[0;31m:\u001b[0m invalid syntax\n"
     ]
    }
   ],
   "source": [
    "class MinimalComputer:\n",
    "    def __init__(self, name):\n",
    "        self.name = name\n",
    "        self.screen = \"Dell 24\\\" 1080p\"\n",
    "        self.tower = \"Rosewill Challenger\"\n",
    "        self.storage = \"WD Green SATAIII\"\n",
    "        self.ram = \"Patriot Viper 3 x 1\"\n",
    "        self.mouse = \"Kensington Orbit\"\n",
    "        self.keyboard = \"Tt Challenger Ultimate\"\n",
    "        self.cpu = \"Intel Core i7 Quad Core 3770K x 4\"\n",
    "        self.gpu = \"Sapphire HD Crossfire\"\n",
    "        self.motherboard = \"MSA Z77A-G45\"\n",
    "    def print_specs():\n",
    "        print(self.name)\n",
    "        print(self.screen)\n",
    "        print(self.tower)\n",
    "        print(self.storage)\n",
    "        print(self.ram)\n",
    "        print(self.mouse)\n",
    "        print(self.keyboard)\n",
    "        print(self.cpu)\n",
    "        print(self.gpu)\n",
    "        print(self.motherboard)\n",
    "\n",
    "class NiceComputer:\n",
    "    def __init__(self, name):\n",
    "        self.name = name\n",
    "        self.screen = \"Dell 24\\\" 1080p\"\n",
    "        self.tower = \"Rosewill Challenger\"\n",
    "        self.storage = \"WD Green SATAIII\"\n",
    "        self.ram = \"Patriot Viper 3 x 1\"\n",
    "        self.mouse = \"Kensington Orbit\"\n",
    "        self.keyboard = \"Tt Challenger Ultimate\"\n",
    "        self.cpu = \"Intel Core i7 Quad Core 3770K x 4\"\n",
    "        self.gpu = \"Sapphire HD Crossfire\"\n",
    "        self.motherboard = \"MSA Z77A-G45\"\n",
    "    def print_specs():\n",
    "        print(self.name)\n",
    "        print(self.screen)\n",
    "        print(self.tower)\n",
    "        print(self.storage)\n",
    "        print(self.ram)\n",
    "        print(self.mouse)\n",
    "        print(self.keyboard)\n",
    "        print(self.cpu)\n",
    "        print(self.gpu)\n",
    "        print(self.motherboard)"
   ]
  },
  {
   "cell_type": "code",
   "execution_count": null,
   "id": "e8645584-5390-4e82-a83b-6698633fe8ac",
   "metadata": {},
   "outputs": [],
   "source": []
  }
 ],
 "metadata": {
  "kernelspec": {
   "display_name": "Python 3 (ipykernel)",
   "language": "python",
   "name": "python3"
  },
  "language_info": {
   "codemirror_mode": {
    "name": "ipython",
    "version": 3
   },
   "file_extension": ".py",
   "mimetype": "text/x-python",
   "name": "python",
   "nbconvert_exporter": "python",
   "pygments_lexer": "ipython3",
   "version": "3.12.2"
  }
 },
 "nbformat": 4,
 "nbformat_minor": 5
}
